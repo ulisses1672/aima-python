{
 "cells": [
  {
   "cell_type": "markdown",
   "metadata": {},
   "source": [
    "**Instalar Dependênicas**\n",
    "\n",
    "pip install prettytable\n"
   ]
  },
  {
   "cell_type": "markdown",
   "metadata": {},
   "source": [
    "**Imports**"
   ]
  },
  {
   "cell_type": "code",
   "execution_count": 89,
   "metadata": {},
   "outputs": [],
   "source": [
    "import sys\n",
    "import math\n",
    "import warnings\n",
    "warnings.filterwarnings(\"ignore\")\n",
    "import random\n",
    "import os\n",
    "#Get the current working directory\n",
    "cwd = os.getcwd()\n",
    "#Insert the parent directory into sys.path\n",
    "sys.path.insert(0, os.path.abspath(os.path.join(cwd, '..')))\n",
    "from csp import *\n",
    "from collections import Counter\n",
    "from prettytable import PrettyTable\n"
   ]
  },
  {
   "cell_type": "markdown",
   "metadata": {},
   "source": [
    "# Introdução\n",
    "\n",
    "**Class Scheduling Project**\n",
    "\n",
    "Este Jupyter Notebook apresenta uma solução para o problema de agendamento de aulas usando técnicas de Constraint Satisfaction Problem (CSP). O projeto tem como objetivo atribuir turmas a salas e intervalos de tempo de forma eficiente, respeitando várias restrições.\n",
    "\n",
    "**Grupo:**\n",
    "- [Rafael Silva], [21089]\n",
    "- [Ulisses Ferreira], [4561]\n",
    "\n"
   ]
  },
  {
   "cell_type": "markdown",
   "metadata": {},
   "source": [
    "# Objectivos\n",
    "\n",
    "**Objetivo**\n",
    "O objetivo deste projeto é gerar um horário de aulas viável considerando várias restrições como a disponibilidade dos professores, a capacidade das salas e o número de aulas por dia.\n",
    "\n",
    "**Possíveis limitações:**\n",
    "- A implementação atual utiliza uma abordagem CSP, que pode não garantir uma solução óptima.\n",
    "- As restrições e heurísticas são definidas com base em determinados pressupostos e podem necessitar de ajustamentos.\n",
    "\n",
    "**Acções:**\n",
    "- Identificar e modificar as restrições/heurísticas para melhorar a qualidade do programa.\n",
    "- Experimentar com diferentes estados iniciais e observar o impacto na solução.\n",
    "\"\"\""
   ]
  },
  {
   "cell_type": "markdown",
   "metadata": {},
   "source": [
    "# Planeamento e concepção de um agente adequado\n",
    "\n",
    "**Atributos do agente (PEAS):**\n",
    "- Desempenho: A qualidade do horário de aulas gerado, considerando restrições e preferências.\n",
    "- Ambiente: O ambiente da tarefa envolve o agendamento de aulas em diferentes salas e faixas horárias.\n",
    "- Actuadores: O agente modifica o horário das aulas com base em técnicas de CSP.\n",
    "- Sensores: O agente observa restrições, disponibilidade de professores e capacidade das salas.\n",
    "\n",
    "**Características do Ambiente da Tarefa**\n",
    "- Espaço de estados discretos representando diferentes horários de aulas.\n",
    "- Restrições de disponibilidade de professores, capacidade de salas e distribuição de turmas.\n",
    "\n",
    "**Formulação do Problema:**\n",
    "- O problema é formulado como um CSP, com classes como variáveis, domínios como possíveis intervalos de tempo e salas, e restrições baseadas na disponibilidade, capacidade e distribuição.\n",
    "\n",
    "**Variáveis, Domínios, Restrições:**\n",
    "- Variáveis: Cada classe é uma variável que representa uma combinação única de horário e sala.\n",
    "- Domínios: Possíveis intervalos de tempo e salas para cada turma.\n",
    "- Restrições: Disponibilidade de professores, Quantidade e Capacidade das salas , e restrições de distribuição.\n",
    "\n",
    "**Heurística aplicada**\n",
    "- A heurística de Conflitos Mínimos é aplicada durante a resolução do CSP."
   ]
  },
  {
   "cell_type": "markdown",
   "metadata": {},
   "source": [
    "# Solução criada\n",
    "A solução criada utiliza uma abordagem *CSP* com recurso à heurística *Conflitos Mínimos* para gerar um horário de aulas. O programa considera restrições de disponibilidade de professores, capacidade da sala e o número de aulas por dia."
   ]
  },
  {
   "cell_type": "markdown",
   "metadata": {},
   "source": [
    "-------------------\n",
    "\n",
    "**Analise:**\n",
    "\n",
    "\n",
    "Funcao para criar quantidade de aulas aleatorias para cada classe , cada turma tem classes de  4 a 10 por semana , tendo no minimo 1 de cada obrigatorio , combinando toda informação de todas as classes  na variavel **class_info** :"
   ]
  },
  {
   "cell_type": "code",
   "execution_count": 90,
   "metadata": {},
   "outputs": [],
   "source": [
    "\n",
    "#Funcao para criar quantidade de aulas aleatorias para cada classe\n",
    "def quantity_add(classe,quantity):\n",
    "    #Gera um número total aleatório de classes entre 4 e 10\n",
    "    desired_total_classes = random.randint(len(classe), 10)\n",
    "\n",
    "    #Distribui o total aleatoriamente entre as classes\n",
    "    quantity = [1] * len(classe)  #Começa com pelo menos 1 de quantidade para cada classe\n",
    "    remaining_classes = desired_total_classes - len(classe)\n",
    "\n",
    "    #Distribua as classes restantes aleatoriamente\n",
    "    for _ in range(remaining_classes):\n",
    "        index = random.randint(0, len(classe) - 1)\n",
    "        quantity[index] += 1\n",
    "\n",
    "    return quantity\n",
    "\n",
    "#VARIAVEIS\n",
    "quantity = []\n",
    "\n",
    "#Classe Lesi\n",
    "Lesi_classes = ['Math', 'English', 'History', 'Art', 'Music']\n",
    "quantity = quantity_add(Lesi_classes,quantity)\n",
    "\n",
    "#Classe Miaa\n",
    "Miaa_classes = ['Physics', 'Chemistry', 'Biology', 'Science', 'Physical_Education']\n",
    "classes = Lesi_classes + Miaa_classes\n",
    "quantity = quantity + quantity_add(Miaa_classes,quantity)\n",
    "\n",
    "#Informação de todas as classes total (de Lesi e de Miaa)\n",
    "class_info = [f\"{class_name}{i+1}\" for class_name, count in zip(classes, quantity) for i in range(count)]"
   ]
  },
  {
   "cell_type": "markdown",
   "metadata": {},
   "source": [
    "Definiçao das salas , dias , time slots disponiveis , professores e a sua respetiva disponibilidade:"
   ]
  },
  {
   "cell_type": "code",
   "execution_count": 91,
   "metadata": {},
   "outputs": [],
   "source": [
    "#Defina as salas\n",
    "rooms = [\"Room1\", \"Room2\", \"Room3\", \"Room4\", \"Room5\", \"Gym\"]\n",
    "\n",
    "#Defina os dias\n",
    "days = [\"Monday\", \"Tuesday\", \"Wednesday\", \"Thursday\", \"Friday\"]\n",
    "\n",
    "# Defina os time slots de cada dia\n",
    "time_slots = [(day, time) for day in days for time in [\"9AM\", \"11AM\", \"1PM\", \"3PM\"]]\n",
    "\n",
    "#Defina os professores de cada turma\n",
    "teachers = {\n",
    "    \"Math\": \"Teacher1\", \"English\": \"Teacher2\", \"History\": \"Teacher3\", \"Science\": \"Teacher4\",\n",
    "    \"Art\": \"Teacher5\", \"Music\": \"Teacher6\", \"Physics\": \"Teacher7\", \"Chemistry\": \"Teacher8\",\n",
    "    \"Biology\": \"Teacher9\", \"Physical_Education\": \"Teacher10\"\n",
    "}\n",
    "\n",
    "#Defina a disponibilidade de Horas e Dias de cada professor\n",
    "availability = {\n",
    "    \"Teacher1\": [(\"Monday\", \"9AM\"),(\"Monday\", \"11AM\"), (\"Tuesday\", \"1PM\"), (\"Tuesday\", \"3PM\")],\n",
    "    \"Teacher2\": [(\"Monday\", \"9AM\"),(\"Monday\", \"11AM\"), (\"Monday\", \"1PM\"), (\"Monday\", \"3PM\"),(\"Tuesday\", \"1PM\"), (\"Tuesday\", \"3PM\")],\n",
    "    \"Teacher3\": [(\"Monday\", \"9AM\"),(\"Monday\", \"11AM\"), (\"Monday\", \"1PM\"), (\"Monday\", \"3PM\"),(\"Friday\", \"9AM\"),(\"Friday\", \"11AM\"), (\"Friday\", \"1PM\"), (\"Friday\", \"3PM\")],\n",
    "    \"Teacher4\":  [(\"Monday\", \"9AM\"),(\"Monday\", \"11AM\"), (\"Tuesday\", \"9AM\"), (\"Tuesday\", \"11AM\") , (\"Tuesday\", \"1PM\"), (\"Tuesday\", \"3PM\"),(\"Wednesday\", \"9AM\"),(\"Wednesday\", \"11AM\"), (\"Wednesday\", \"1PM\"), (\"Wednesday\", \"3PM\"),(\"Thursday\", \"9AM\"),(\"Thursday\", \"11AM\"), (\"Thursday\", \"1PM\"), (\"Thursday\", \"3PM\"),(\"Friday\", \"11AM\"), (\"Friday\", \"1PM\"), (\"Friday\", \"3PM\")],\n",
    "    \"Teacher5\": [(\"Wednesday\", \"1PM\"), (\"Wednesday\", \"3PM\"), (\"Thursday\", \"1PM\"), (\"Thursday\", \"3PM\")],\n",
    "    \"Teacher6\": [(\"Tuesday\", \"9AM\"), (\"Tuesday\", \"11AM\"), (\"Wednesday\", \"9AM\"), (\"Wednesday\", \"11AM\")],\n",
    "    \"Teacher7\": time_slots, # Teacher7 is available at any time\n",
    "    \"Teacher8\": time_slots,\n",
    "    \"Teacher9\": time_slots,\n",
    "    \"Teacher10\": time_slots\n",
    "}"
   ]
  },
  {
   "cell_type": "markdown",
   "metadata": {},
   "source": [
    "Definicao do Dominio , onde guarda todos os slots de tempo de cada professor que tao disponiveis por classe:"
   ]
  },
  {
   "cell_type": "code",
   "execution_count": 92,
   "metadata": {},
   "outputs": [],
   "source": [
    "#Dominio \n",
    "index = 0\n",
    "domains = {}\n",
    "domainTotal = {}\n",
    "\n",
    "for class_ in class_info:\n",
    "    className = class_[:-1]\n",
    "    teacher = teachers[className]\n",
    "    index = index + 1\n",
    "    domains[class_] = [(time_slot, room) for time_slot in time_slots[:25] if time_slot in availability[teacher] for room in rooms]  # 25 slots de tempo disponiveis para cada professor"
   ]
  },
  {
   "cell_type": "markdown",
   "metadata": {},
   "source": [
    "Definicao dos Neighbors de cada Class:"
   ]
  },
  {
   "cell_type": "code",
   "execution_count": 93,
   "metadata": {},
   "outputs": [],
   "source": [
    "#Defina os neighbors\n",
    "neighbors = {class_: [other_class for other_class in class_info if other_class != class_] for class_ in class_info}"
   ]
  },
  {
   "cell_type": "markdown",
   "metadata": {},
   "source": [
    "**Funcoes para o ajudar nas restricoes/constraint do Csp:**\n",
    "\n",
    "- Funcao para ver se um professor esta disponivel no tempo e dia\n",
    "- Funcao para receber um professor com a classe\n",
    "- Funcao dar check a quantidade"
   ]
  },
  {
   "cell_type": "code",
   "execution_count": 94,
   "metadata": {},
   "outputs": [],
   "source": [
    "#Funcao para ver se um professor esta disponivel no tempo e dia\n",
    "def is_teacher_available(teacher, day, time, availability):\n",
    "    if teacher in availability:\n",
    "        for available_day, available_time in availability[teacher]:\n",
    "            if available_day == day and available_time == time:\n",
    "                return True\n",
    "    return False\n",
    "\n",
    "#Funcao para receber um professor com a classe\n",
    "def get_teacher_by_class(class_name, teachers):\n",
    "    return teachers.get(class_name, None)\n",
    "\n",
    "#Funcao dar check a quantidade\n",
    "def checkQuantity(quantity):\n",
    "    for value in quantity:\n",
    "        if value > 2:\n",
    "            return True  \n",
    "    return False"
   ]
  },
  {
   "cell_type": "markdown",
   "metadata": {},
   "source": [
    "Funcoes para Restrições do Csp:\n",
    "\n",
    "- Funcao para a Restrição de 2 aulas por dia\n",
    "- Funcao para a Restrição nº de aulas por semana (Disciplinas podem ter so ate 4 dias diferentes da semana)"
   ]
  },
  {
   "cell_type": "code",
   "execution_count": 95,
   "metadata": {},
   "outputs": [],
   "source": [
    "#Restrições\n",
    "\n",
    "#Restrição de 2 aulas por dia\n",
    "def check_classes_on_day(schedule, specified_day):\n",
    "    day_class_count = {}\n",
    "\n",
    "    for class_name, ((day, time), room) in schedule.items():\n",
    "        if day == specified_day:\n",
    "            if class_name[:-1] in day_class_count:\n",
    "                day_class_count[class_name[:-1]] += 1\n",
    "                # Check if the count exceeds 2\n",
    "                if day_class_count[class_name[:-1]] > 2:\n",
    "                    return True\n",
    "            else:\n",
    "                day_class_count[class_name[:-1]] = 1\n",
    "\n",
    "    return False\n",
    "\n",
    "#Restrição nº de aulas por semana (Disciplinas podem ter so ate 4 dias diferentes da semana)\n",
    "def check_days_per_week(schedule, class_name):\n",
    "    days_count = Counter()\n",
    "    counte = 0\n",
    "    \n",
    "    for other_class, ((day, _), _) in schedule.items():\n",
    "        if other_class[:-1] == class_name[:-1]:\n",
    "            days_count[day] += 1\n",
    "\n",
    "    if(len(days_count)<=4):\n",
    "        return False\n",
    "    else:\n",
    "        return True"
   ]
  },
  {
   "cell_type": "markdown",
   "metadata": {},
   "source": [
    "**Constraint/Restriçôes:**"
   ]
  },
  {
   "cell_type": "code",
   "execution_count": 96,
   "metadata": {},
   "outputs": [],
   "source": [
    "#Constraint/Restriçôes para Lesi e Miaa usando as funcoes anteriores \n",
    "#Nota: Aulas de Educação Fisica apenas é sempre só na sala de Gym\n",
    "def constraint(class_a, time_room_a, class_b, time_room_b):\n",
    "    day_a, time_a = time_room_a[0]\n",
    "    room_a = time_room_a[1]\n",
    "\n",
    "    day_b, time_b = time_room_b[0]\n",
    "    room_b = time_room_b[1]\n",
    "\n",
    "    if check_days_per_week(class_schedule.current, class_a):\n",
    "        return False\n",
    "    if check_days_per_week(class_schedule.current, class_b):\n",
    "        return False\n",
    "    \n",
    "    if (check_classes_on_day(class_schedule.current, day_a)):\n",
    "        return False\n",
    "    if (check_classes_on_day(class_schedule.current, day_b)):\n",
    "        return False\n",
    "    \n",
    "    teacher_a = get_teacher_by_class(class_a[:-1], teachers)\n",
    "    teacher_b = get_teacher_by_class(class_b[:-1], teachers)\n",
    "\n",
    "    #Verifica se os horários e as salas estão disponíveis, se os professores estão disponíveis,\n",
    "    # e se a capacidade da sala é suficiente\n",
    "    if (is_teacher_available(teacher_a, day_a, time_a, availability)\n",
    "        and is_teacher_available(teacher_b, day_b, time_b, availability)\n",
    "        and (day_a, time_a) != (day_b, time_b)\n",
    "        and ((class_a[:-1] == 'Physical_Education' and room_a == 'Gym') or (class_a[:-1] != 'Physical_Education' and room_a != 'Gym'))\n",
    "        and ((class_b[:-1] == 'Physical_Education' and room_b == 'Gym') or (class_b[:-1] != 'Physical_Education' and room_b != 'Gym'))):\n",
    "        return True\n",
    "    else:\n",
    "        return False"
   ]
  },
  {
   "cell_type": "markdown",
   "metadata": {},
   "source": [
    "Criaçao do Problema CSP:"
   ]
  },
  {
   "cell_type": "code",
   "execution_count": 97,
   "metadata": {},
   "outputs": [],
   "source": [
    "#Cria o CSP\n",
    "class_schedule = CSP(class_info, domains, neighbors, constraint)"
   ]
  },
  {
   "cell_type": "markdown",
   "metadata": {},
   "source": [
    "Soluçao do Problema CSP:"
   ]
  },
  {
   "cell_type": "code",
   "execution_count": 98,
   "metadata": {},
   "outputs": [],
   "source": [
    "\n",
    "#Resolve o CSP\n",
    "solution = min_conflicts(class_schedule)"
   ]
  },
  {
   "cell_type": "markdown",
   "metadata": {},
   "source": [
    "**Impressao da Solucao numa Tabela:**"
   ]
  },
  {
   "cell_type": "code",
   "execution_count": 99,
   "metadata": {},
   "outputs": [
    {
     "name": "stdout",
     "output_type": "stream",
     "text": [
      "+--------------------+----------+------+-------+-----------+--------+---------+-----------+----------+--------+\n",
      "|       Class        | Category | Time |  Room |  Teacher  | Monday | Tuesday | Wednesday | Thursday | Friday |\n",
      "+--------------------+----------+------+-------+-----------+--------+---------+-----------+----------+--------+\n",
      "|        ----        |   ----   | ---- |  ---- |    ----   |  ----  |   ----  |    ----   |   ----   |  ----  |\n",
      "|        Math        |   Lesi   | 9AM  | Room5 |  Teacher1 |   X    |         |           |          |        |\n",
      "|       Music        |   Lesi   | 9AM  | Room1 |  Teacher6 |        |    X    |           |          |        |\n",
      "|      English       |   Lesi   | 11AM | Room3 |  Teacher2 |   X    |         |           |          |        |\n",
      "|      History       |   Lesi   | 11AM | Room4 |  Teacher3 |        |         |           |          |   X    |\n",
      "|        Art         |   Lesi   | 1PM  | Room1 |  Teacher5 |        |         |           |    X     |        |\n",
      "|        Art         |   Lesi   | 1PM  | Room2 |  Teacher5 |        |         |     X     |          |        |\n",
      "|      History       |   Lesi   | 3PM  | Room2 |  Teacher3 |        |         |           |          |   X    |\n",
      "|        Art         |   Lesi   | 3PM  | Room3 |  Teacher5 |        |         |           |    X     |        |\n",
      "|        ----        |   ----   | ---- |  ---- |    ----   |  ----  |   ----  |    ----   |   ----   |  ----  |\n",
      "|      Physics       |   Miaa   | 9AM  | Room3 |  Teacher7 |        |         |     X     |          |        |\n",
      "|      Biology       |   Miaa   | 9AM  | Room2 |  Teacher9 |        |         |           |    X     |        |\n",
      "|     Chemistry      |   Miaa   | 11AM | Room3 |  Teacher8 |        |    X    |           |          |        |\n",
      "|      Science       |   Miaa   | 11AM | Room3 |  Teacher4 |        |         |           |    X     |        |\n",
      "| Physical_Education |   Miaa   | 1PM  |  Gym  | Teacher10 |   X    |         |           |          |        |\n",
      "|     Chemistry      |   Miaa   | 3PM  | Room3 |  Teacher8 |   X    |         |           |          |        |\n",
      "|     Chemistry      |   Miaa   | 3PM  | Room2 |  Teacher8 |        |    X    |           |          |        |\n",
      "|      Biology       |   Miaa   | 3PM  | Room1 |  Teacher9 |        |         |     X     |          |        |\n",
      "+--------------------+----------+------+-------+-----------+--------+---------+-----------+----------+--------+\n"
     ]
    }
   ],
   "source": [
    "\n",
    "#Impressão da solução\n",
    "#Cria uma tabela com colunas para cada dia, sala e professor\n",
    "combined_table = PrettyTable()\n",
    "combined_table.field_names = [\"Class\", \"Category\", \"Time\", \"Room\", \"Teacher\", \"Monday\", \"Tuesday\", \"Wednesday\", \"Thursday\", \"Friday\"]\n",
    "\n",
    "#Defina a ordem crescente dos horários\n",
    "time_order = [\"9AM\", \"11AM\", \"1PM\", \"3PM\"]\n",
    "\n",
    "#Função para adicionar uma linha à tabela combinada\n",
    "def add_row_to_table(class_, details, category):\n",
    "    day_time, room = details\n",
    "    day, time = day_time\n",
    "    class_name = class_[:-1]\n",
    "    teacher = teachers[class_name]\n",
    "\n",
    "    #Adiciona uma linha à tabela combinada\n",
    "    combined_table.add_row([\n",
    "        class_name,\n",
    "        category,\n",
    "        time,\n",
    "        room,\n",
    "        teacher,\n",
    "        \"X\" if day == \"Monday\" else \"\",\n",
    "        \"X\" if day == \"Tuesday\" else \"\",\n",
    "        \"X\" if day == \"Wednesday\" else \"\",\n",
    "        \"X\" if day == \"Thursday\" else \"\",\n",
    "        \"X\" if day == \"Friday\" else \"\"\n",
    "    ])\n",
    "\n",
    "#Preenche a tabela combinada para Lesi classes\n",
    "combined_table.add_row([\"----\", \"----\", \"----\", \"----\", \"----\", \"----\", \"----\", \"----\", \"----\", \"----\"])\n",
    "for time_slot in time_order:\n",
    "    for class_, details in solution.items():\n",
    "        if class_[:-1] in Lesi_classes:\n",
    "            if details[0][1] == time_slot:\n",
    "                add_row_to_table(class_, details, \"Lesi\")\n",
    "\n",
    "#Preenche a tabela combinada para Miaa classes\n",
    "combined_table.add_row([\"----\", \"----\", \"----\", \"----\", \"----\", \"----\", \"----\", \"----\", \"----\", \"----\"])\n",
    "for time_slot in time_order:\n",
    "    for class_, details in solution.items():\n",
    "        if class_[:-1] in Miaa_classes:\n",
    "            if details[0][1] == time_slot:\n",
    "                add_row_to_table(class_, details, \"Miaa\")\n",
    "\n",
    "#Imprima a tabela combinada\n",
    "print(combined_table)\n"
   ]
  },
  {
   "cell_type": "markdown",
   "metadata": {},
   "source": [
    "**Analise dos Resultados:**\n",
    "\n",
    "- O horário obtido é apresentado num formato tabular, indicando as classes, as turmas, as faixas horárias e as salas.\n",
    "- São consideradas as restrições relacionadas com a disponibilidade dos professores, a capacidade das salas e a distribuição.\n",
    "- Algumas restrições podem afetar o horário (como a disponibilidade de os professores), conduzindo a soluções não optimizadas."
   ]
  },
  {
   "cell_type": "markdown",
   "metadata": {},
   "source": [
    "**Melhorias a considerar:**\n",
    "\n",
    "- Experimentar diferentes formulações de restrições para melhorar a qualidade da solução.\n",
    "- Explorar algoritmos alternativos de resolução de CSP para obter resultados potencialmente melhores.\n"
   ]
  },
  {
   "cell_type": "markdown",
   "metadata": {},
   "source": [
    "# Conclusão\n",
    "O projeto de agendamento de turmas aplica com sucesso técnicas de CSP para gerar horários viáveis. O agente considera várias restrições e produz horários que respeitam as restrições apresentadas no enunciado do trabalho, a disponibilidade dos professores, a capacidade das salas e as restrições de distribuição.\n",
    "\n",
    "**Processo de Desenvolvimento**\n",
    "\n",
    "O processo de desenvolvimento envolveu a definição do problema, sua formulação como um CSP e a implementação da solução. As restrições foram cuidadosamente consideradas e foram aplicadas heurísticas para melhorar a eficiência da solução. A solução implementada permite obter um resultado de forma mais rápida quando comparada com as outras heurísticas experimentadas.\n",
    "\n",
    "**Ferramentas utilizadas**\n",
    "- Python com Jupyter Notebook\n",
    "- Biblioteca de problemas de satisfação de restrições (CSP)\n",
    "- PrettyTable"
   ]
  }
 ],
 "metadata": {
  "kernelspec": {
   "display_name": "Python 3",
   "language": "python",
   "name": "python3"
  },
  "language_info": {
   "codemirror_mode": {
    "name": "ipython",
    "version": 3
   },
   "file_extension": ".py",
   "mimetype": "text/x-python",
   "name": "python",
   "nbconvert_exporter": "python",
   "pygments_lexer": "ipython3",
   "version": "3.11.6"
  }
 },
 "nbformat": 4,
 "nbformat_minor": 2
}
