{
 "cells": [
  {
   "cell_type": "markdown",
   "metadata": {},
   "source": [
    "----\n",
    "## Imports\n",
    "\n",
    "----"
   ]
  },
  {
   "cell_type": "code",
   "execution_count": 27,
   "metadata": {},
   "outputs": [],
   "source": [
    "from csp import *\n",
    "# from notebook import psource, plot_NQueens , test\n",
    "\n",
    "# %matplotlib inline\n",
    "# Hide warnings in the matplotlib sections\n",
    "\n",
    "import math\n",
    "import warnings\n",
    "warnings.filterwarnings(\"ignore\")"
   ]
  },
  {
   "cell_type": "markdown",
   "metadata": {},
   "source": [
    "---- \n",
    "# Variaveis iniciais\n",
    "\n",
    "The scheduling of lessons has to take into account the\n",
    "availability of teachers, the size of the classroom, and\n",
    "many other constraints, such as:\n",
    "* All lessons last 2 hours and take place on weekdays\n",
    "* All classes have 4 to 10 lessons per week\n",
    "* A class should not have more than 3 lessons per day\n",
    "* A class should not have more than 4 days per week\n",
    "* Only 1 or 2 lessons per morning / afternoon\n",
    "\n",
    "If possible, consider some preferences\n",
    "* Each class should have most of the classes in the\n",
    "same room\n",
    "* Teachers can have some schedule preferences"
   ]
  },
  {
   "cell_type": "code",
   "execution_count": 104,
   "metadata": {},
   "outputs": [
    {
     "name": "stdout",
     "output_type": "stream",
     "text": [
      "('Monday', 'Morning') {'classes': [{'professor': 'Rui', 'discipline': 'Matematica'}, {'professor': 'Rita', 'discipline': 'Portugues'}]}\n",
      "('Monday', 'Afternoon') {'classes': [{'professor': 'Raul', 'discipline': 'Ciencia'}, None]}\n",
      "('Tuesday', 'Morning') {'classes': [None, None]}\n",
      "('Tuesday', 'Afternoon') {'classes': [{'professor': 'Rita', 'discipline': 'Filosofia'}, None]}\n",
      "('Wednesday', 'Morning') {'classes': [None, None]}\n",
      "('Wednesday', 'Afternoon') {'classes': [None, None]}\n",
      "('Thursday', 'Morning') {'classes': [None, None]}\n",
      "('Thursday', 'Afternoon') {'classes': [None, None]}\n",
      "('Friday', 'Morning') {'classes': [None, None]}\n",
      "('Friday', 'Afternoon') {'classes': [None, None]}\n"
     ]
    }
   ],
   "source": [
    "daysOfTheWeek = 'Monday Tuesday Wednesday Thursday Friday'.split()\n",
    "professors = 'Rui Rita Raul'.split()\n",
    "disciplines = 'Matematica Portugues Ciencia Filosofia'.split()\n",
    "periods = 'Morning Afternoon'.split()\n",
    "\n",
    "classTime = 2\n",
    "lessonsMin = 4\n",
    "lessonsMax = 10\n",
    "\n",
    "# domain\n",
    "dominio = {(day, period): {'classes': [None, None] for _ in range(2)} for day in daysOfTheWeek for period in periods}\n",
    "\n",
    "# Function to check if a class can be scheduled for a given day and period\n",
    "def can_schedule_class(day, period):\n",
    "    return None in dominio[(day, period)]['classes']\n",
    "\n",
    "# Function to schedule a class for a given day and period\n",
    "def schedule_class(day, period, professor, discipline):\n",
    "    if can_schedule_class(day, period):\n",
    "        index = dominio[(day, period)]['classes'].index(None)\n",
    "        dominio[(day, period)]['classes'][index] = {'professor': professor, 'discipline': discipline}\n",
    "        return True\n",
    "    else:\n",
    "        return False\n",
    "\n",
    "# Example usage:\n",
    "schedule_class('Monday', 'Morning', 'Rui', 'Matematica')\n",
    "schedule_class('Monday', 'Morning', 'Rita', 'Portugues')  \n",
    "schedule_class('Monday', 'Afternoon', 'Raul', 'Ciencia')\n",
    "schedule_class('Tuesday', 'Afternoon', 'Rita', 'Filosofia')\n",
    "\n",
    "# Print the final dominio\n",
    "for key, value in dominio.items():\n",
    "    print(key, value)\n"
   ]
  },
  {
   "cell_type": "markdown",
   "metadata": {},
   "source": []
  }
 ],
 "metadata": {
  "kernelspec": {
   "display_name": "Python 3",
   "language": "python",
   "name": "python3"
  },
  "language_info": {
   "codemirror_mode": {
    "name": "ipython",
    "version": 3
   },
   "file_extension": ".py",
   "mimetype": "text/x-python",
   "name": "python",
   "nbconvert_exporter": "python",
   "pygments_lexer": "ipython3",
   "version": "3.11.6"
  }
 },
 "nbformat": 4,
 "nbformat_minor": 2
}
